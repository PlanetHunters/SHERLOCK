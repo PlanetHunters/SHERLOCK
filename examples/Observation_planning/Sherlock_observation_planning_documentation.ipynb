{
 "cells": [
  {
   "cell_type": "markdown",
   "id": "edfbb619-4a8c-4c34-90ce-00d4e49d46f3",
   "metadata": {
    "tags": []
   },
   "source": [
    "# Documentation for the Sherlockpipe's observation planning tool\n",
    "\n",
    "In this document we will give an example of how to use the observation planning tool of Sherlock by applying it to TIC 2527981. This star was observed by TESS in its sector 27.\n"
   ]
  },
  {
   "cell_type": "markdown",
   "id": "cc7063f8-c559-4bd7-9685-bdb6eecd3d5e",
   "metadata": {},
   "source": [
    "## Setup\n",
    "\n",
    "To generate an observation plan for your target, you must already have done a fit of your signal using SHERLOCK and go in the resulting folder (usually named \"fit_0\"). In this part we will briefly do a quick recap on how we get there.\n"
   ]
  },
  {
   "cell_type": "markdown",
   "id": "c6235863-4af2-4d47-bf06-5a5daae198cc",
   "metadata": {},
   "source": [
    "First we need a .yaml file with the properties of our target. Here is the one used in our case, named *input.yaml*:\n",
    "\n",
    "```\n",
    "TARGETS:\n",
    "  'TIC 2527981':\n",
    "     SECTORS: [27]\n",
    "     AUTO_DETREND_ENABLED: True\n",
    "     INITIAL_SMOOTH_ENABLED: True\n",
    "     INITIAL_HIGH_RMS_MASK: True\n",
    "     INITIAL_HIGH_RMS_THRESHOLD: 1.5\n",
    "     DETREND_METHOD: 'biweight'\n",
    "     DETRENDS_NUMBER: 12\n",
    "     DETREND_CORES: 80\n",
    "     MAX_RUNS: 4\n",
    "     SNR_MIN: 6\n",
    "     SDE_MIN: 7\n",
    "     CPU_CORES: 80\n",
    "     OVERSAMPLING: 3\n",
    "```\n"
   ]
  },
  {
   "cell_type": "markdown",
   "id": "f3d93246-9649-45fc-b818-8d76924fa1a0",
   "metadata": {},
   "source": [
    "Then we initiate the run with the line:\n",
    "`nice -15 python3 -m sherlockpipe --properties input.yaml`\n",
    "\n",
    "_Yes, we even \"nice\" it to be cool with our colleagues sharing the same clusters !_"
   ]
  },
  {
   "cell_type": "markdown",
   "id": "6b03e58e-44c4-48c9-9d22-1473830f48bc",
   "metadata": {},
   "source": [
    "----------------------------\n",
    "After the run, we get an output folder, called mmmmmmmmmmm, where all the results appear.\n",
    "\n",
    "We will fit the first candidate\n",
    "\n",
    "mmmmmmm add image\n",
    "\n",
    "\n",
    "\n",
    "\n",
    "\n",
    "You must also have a csv file containing basic informations about the (ground) observatories you want to consider, such as this :\n",
    "\n",
    "```\n",
    "name,tz,lat,lon,alt\n",
    "Trappist-North,,31.2061,-7.8664,2751\n",
    "Speculoos-South,,-24.6272,-70.4042,2518\n",
    "Extremely-Great-Gigantic-Prodigiously-Large-and-Abusively-Notorious-Telescope,,51.385362, -68.711408,42\n",
    "```\n",
    "\n",
    "The parameters are defined as:\n",
    "  1. name : name of the observatory (call it whatever makes it for you, it's not regulated).\n",
    "  2. tz : the time zone of the observatory, you can leave it empty, SHERLOCK gets it by itself.\n",
    "  3. lat : Observatory's latitude\n",
    "  4. lon : Observatory's longitude\n",
    "  5. alt : Observatory's altitude\n",
    "\n",
    "Once you have these files, you can execute the planning module of SHERLOCK with this line :\\\n",
    "  `python3 -m sherlockpipe.plan --observatories Observatories.csv`\n",
    "\n",
    "If you encounter any issue, please refer to the \"Troubleshooting\" file. It is still at the draft state, as we need your bugs to expand it :)\\\n",
    "If your error is not solved in the \"Troubleshooting\" file, please let us know about it, so we can work on a patch !"
   ]
  },
  {
   "cell_type": "markdown",
   "id": "cce2e421-8c5e-4a72-8131-122896ee1a9b",
   "metadata": {},
   "source": [
    "\n",
    "## Output\n",
    "\n",
    "During the execution, SHERLOCK will create a \"plan\" folder in which you will find two files, one csv and one pdf.\n",
    "The csv file contains the following informations:\n",
    "  - observatory : observatory's name as you defined it.\n",
    "  - timezone : time zone of the observatory.\n",
    "  - start_obs : date and time where the observation would start. Format is yyyy-mm-dd for the date, then \"T\" for the time, formated hh:mm:ss.sss in 24h format.\n",
    "  - end_obs : date and time where the observation would end, same format as for \"start_obs\".\n",
    "  - ingress : time where the transit should begin (best estimation), same format as for \"start_obs\".\n",
    "  - egress : time where the transit should end (best estimation), same format as for \"start_obs\".\n",
    "  - midtime : middle time of the transit (best estimation), same format as for \"start_obs\".\n",
    "  - midtime_up_err_h : maximum time deviation from the midtime, in hours (?) mmmmmmmmmmmm.\n",
    "  - midtime_low_err_h : mmmmmmmmm deviation from the midtime, in hours.\n",
    "  - twilight_evening : earliest time at which the observation can start, same format as for \"start_obs\".\n",
    "  - twilight_morning : Latest time at which the observation can end, same format as for \"start_obs\".\n",
    "  - observable : Minimum fraction of the transit that must be observable to consider an observation.\n",
    "  - moon_phase : Phase of the Moon, from 0 (new Moon) to 1 (full Moon).\n",
    "  - moon_dist : Angular distance between the Moon and the target, in degrees.\n",
    "  \n",
    "In the pdf file, you will find a quick recap of the targeted star, signal, few key parameters for the observation and the observatories. After that, begin a\n",
    "large table containing all the elements required to schedule an observation, along with small visual interpretation of the conditions of the observations.\n",
    "The first column \"Observatory\" is the name of the observatory as you defined it with the second column \"TZ\" its time zone. The third one, \"Event times\", gives\n",
    "the key times for the observation such as :\n",
    "  - TWE : \"Twilight Evening\", time in the evening from when an observation is possible.\n",
    "  - SO : Start of the observation.\n",
    "  - I : Expected time of ingress (begining of the transit).\n",
    "  - M : Expected time of the middle time of the transit.\n",
    "  - E : Expected time of the egress (end of the transit).\n",
    "  - EO : End of the observation.\n",
    "  - TWM : \"Twilight Morning\", time in the morning until whent an observation is possible.\n",
    "  \n",
    "The next column, \"TT Error\" gives the error margins for the time where the transit should happen, in hours. \"Moon\" gives a recap of the state of the moon\n",
    "durring the observation night, with first its phase (in %) and then its angular distance to the target (in °). Then comes the \"Image\" column, where there is\n",
    "a lot to say. The abscice is the time which is not visually quantified as the values are in the column \"Event times\"). The background shows when it is the\n",
    "night (grey) or day (white). The blue line is a visualisation of the elevation of the target, with the values on the right axis in degrees and the air mass on the left. The bottom green\n",
    "patch is the part of the sky where the target would be too low to observe. Vertical lines are :\n",
    "  - Black : Expected time of the middle time of the transit.\n",
    "  - Orange : Expected times of the ingress and egress.\n",
    "  - Pink/violet : Start and end of the observation.\n",
    "  - Red : Temporal incertainity for the ingres (left line) and egress (right line)."
   ]
  },
  {
   "cell_type": "code",
   "execution_count": null,
   "id": "ce1d89f5-bfc2-4181-babb-a1be9698b591",
   "metadata": {},
   "outputs": [],
   "source": []
  },
  {
   "cell_type": "code",
   "execution_count": null,
   "id": "bb0fd38d-2523-4264-b6aa-460f84649cda",
   "metadata": {},
   "outputs": [],
   "source": []
  },
  {
   "cell_type": "code",
   "execution_count": null,
   "id": "db2d0ae8-dd88-4fca-ba0d-2bed5d721758",
   "metadata": {},
   "outputs": [],
   "source": []
  }
 ],
 "metadata": {
  "kernelspec": {
   "display_name": "Python 3 (ipykernel)",
   "language": "python",
   "name": "python3"
  },
  "language_info": {
   "codemirror_mode": {
    "name": "ipython",
    "version": 3
   },
   "file_extension": ".py",
   "mimetype": "text/x-python",
   "name": "python",
   "nbconvert_exporter": "python",
   "pygments_lexer": "ipython3",
   "version": "3.7.3"
  }
 },
 "nbformat": 4,
 "nbformat_minor": 5
}
